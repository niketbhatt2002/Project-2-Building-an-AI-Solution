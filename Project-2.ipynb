# Install required library
!pip install azure-ai-textanalytics

# Sample dataset of product reviews
reviews = [
    "This product is amazing! It works perfectly and is very easy to use.",
    "I am very disappointed with this product. It broke after a week.",
    "The product is okay, but it could be better.",
]

# Set up the client
from azure.core.credentials import AzureKeyCredential
from azure.ai.textanalytics import TextAnalyticsClient

endpoint = "YOUR_AZURE_ENDPOINT"
key = "YOUR_AZURE_KEY"
credential = AzureKeyCredential(key)
client = TextAnalyticsClient(endpoint=endpoint, credential=credential)

# Analyze sentiment
def analyze_sentiment(reviews):
    results = client.analyze_sentiment(reviews)
    for idx, review in enumerate(results):
        print(f"Review {idx + 1}:")
        print(f"  Sentiment: {review.sentiment}")
        print(f"  Confidence Scores: Positive={review.confidence_scores.positive:.2f}, Neutral={review.confidence_scores.neutral:.2f}, Negative={review.confidence_scores.negative:.2f}")
        print()

analyze_sentiment(reviews)
